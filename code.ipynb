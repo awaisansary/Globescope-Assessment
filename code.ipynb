{
  "nbformat": 4,
  "nbformat_minor": 0,
  "metadata": {
    "colab": {
      "name": "code.ipynb",
      "provenance": [],
      "collapsed_sections": []
    },
    "kernelspec": {
      "name": "python3",
      "display_name": "Python 3"
    },
    "language_info": {
      "name": "python"
    }
  },
  "cells": [
    {
      "cell_type": "code",
      "source": [
        "import sys\n",
        "import unittest\n",
        "from enum import Enum"
      ],
      "metadata": {
        "id": "HkH06dffLhrx"
      },
      "execution_count": 1,
      "outputs": []
    },
    {
      "cell_type": "code",
      "execution_count": 2,
      "metadata": {
        "id": "faQ8utn1J9mF"
      },
      "outputs": [],
      "source": [
        "class Dijkstras: \n",
        "  \n",
        "    def __init__(self, graph_dictionary):\n",
        "        self.shortest_distances = {} #shortest_distances = store the shortest distances between any two nodes\n",
        "        self.shortest_paths = {} #shortest_paths = store the shortest routes between any two nodes (name of the nodes)\n",
        "        \n",
        "        for start_node in graph_dictionary.keys(): #calling shortest path algorithm making every node as the start node \n",
        "            self.shortest_distances[start_node], self.shortest_paths[start_node] = self.calculate_shortest_routes(graph_dictionary, start_node)\n",
        "\n",
        "    def calculate_shortest_routes(self, graph_dictionary, start_node): #computing all shortest routes\n",
        "        shortest_routes = {}\n",
        "        visit_nodes = {start_node: 0}\n",
        "        previous_nodes = {}\n",
        "        \n",
        "        while visit_nodes:\n",
        "            next_node_key = min(visit_nodes, key=visit_nodes.get)\n",
        "            distance_to_next_node = visit_nodes.pop(next_node_key)\n",
        "\n",
        "            for node_key, node_value in graph_dictionary[next_node_key].items():\n",
        "                if node_key not in shortest_routes:\n",
        "                    addup_edges = distance_to_next_node + node_value\n",
        "                    if node_key not in visit_nodes:\n",
        "                        visit_nodes[node_key] = addup_edges\n",
        "                        previous_nodes[node_key] = next_node_key\n",
        "                    else:\n",
        "                        if (visit_nodes[node_key] > addup_edges):\n",
        "                            visit_nodes[node_key] = addup_edges\n",
        "                            previous_nodes[node_key] = next_node_key\n",
        "\n",
        "            if next_node_key != start_node or distance_to_next_node > 0: #cannot assign start node with 0 distance \n",
        "                shortest_routes[next_node_key] = distance_to_next_node\n",
        "        return shortest_routes, previous_nodes\n",
        "\n",
        "    def get_distance(self, start_node, end_node): #shortest distance from a start node to end node \n",
        "        if end_node in self.shortest_distances.get(start_node, {}):\n",
        "            routes = end_node #display\n",
        "            node_key = end_node\n",
        "            while (self.shortest_paths[start_node][node_key] != start_node): \n",
        "                routes = routes + self.shortest_paths[start_node][node_key]\n",
        "                node_key = self.shortest_paths[start_node][node_key]\n",
        "            routes = routes + start_node\n",
        "            routes = routes[::-1]\n",
        "            print(\"\\nShortest route from \" + start_node + \" to \" + end_node + \" is: \" + routes + \" with distance \" + str(self.shortest_distances[start_node][end_node]))\n",
        "            \n",
        "            return self.shortest_distances[start_node][end_node]\n",
        "\n",
        "        print(\"\\nNO SUCH ROUTE from \" + start_node + \" to \" + end_node)\n",
        "        return \"NO SUCH ROUTE\""
      ]
    },
    {
      "cell_type": "code",
      "source": [
        "class Railroad: #receives the city-to-city railroad & their distances such as \"AB5, BC4, CD8, DC8, DE6, AD5, CE2, EB3, AE7\" \n",
        "    \n",
        "    TripType = Enum('TripType', 'exact_stops max_stops')\n",
        "\n",
        "    def __init__(self, graph):\n",
        "        self.graph = self.convert_graph_to_dictionary(graph)\n",
        "        self.dijkstras = Dijkstras(self.graph)\n",
        "\n",
        "    def convert_graph_to_dictionary(self, graph): #converts graph string to dictionary\n",
        "        graph_dictionary = {}\n",
        "        connection_list = [x.strip() for x in graph.split(',')]\n",
        "        for connection in connection_list:\n",
        "            departure_city = connection[0]\n",
        "            next_city = connection[1]\n",
        "            distance = float(connection[2:])\n",
        "\n",
        "            if departure_city not in graph_dictionary:\n",
        "                graph_dictionary[departure_city] = {}\n",
        "\n",
        "            graph_dictionary[departure_city][next_city] = distance\n",
        "        return graph_dictionary\n",
        "\n",
        "    def get_shortest_distance(self, departure_city, destination_city): #gets the shortest distance \n",
        "        return self.dijkstras.get_distance(departure_city, destination_city)\n",
        "\n",
        "    def get_distance(self, route): #calculates distance for specific routes \n",
        "        if route == \"\":\n",
        "            print(\"\\n\" + route + \": NO SUCH ROUTE\")\n",
        "            return \"NO SUCH ROUTE\"\n",
        "\n",
        "        route_cities = route.split('-')\n",
        "        current_city = route_cities[0]\n",
        "        total_distance = 0\n",
        "        for i in range(1, len(route_cities)): # looping through cities on the route to sum up the distances\n",
        "            next_city = route_cities[i]\n",
        "            if current_city in self.graph and next_city in self.graph[current_city]:\n",
        "                total_distance += self.graph[current_city][next_city]\n",
        "            else:\n",
        "                print(\"\\n\" + route + \": NO SUCH ROUTE\")\n",
        "                return \"NO SUCH ROUTE\"\n",
        "            current_city = next_city\n",
        "\n",
        "        print(\"\\nThe route \" + route + \" has the distance of \" + str(total_distance))\n",
        "        return total_distance\n",
        "\n",
        "    def get_number_of_possible_trips(self, departure_city, destination_city, num_stops, trip_type, callback=1): #possible number of trips from departure to destination city\n",
        "        trip_number = 0\n",
        "        if num_stops == 0:\n",
        "            if (callback == 1):\n",
        "                if (trip_type == self.TripType.max_stops):\n",
        "                    print(\"\\nNumber of possible trips from \" + departure_city + \" to \" + destination_city + \" with maximum of \" + str(num_stops) + \" stops are: \" + str(trip_number))\n",
        "                else:\n",
        "                    print(\"\\nNumber of possible trips from \" + departure_city + \" to \" + destination_city + \" with exact \" + str(num_stops) + \" stops are: \" + str(trip_number))\n",
        "            return 0\n",
        "\n",
        "        for next_city in self.graph[departure_city]: #all connections from departure city traversal\n",
        "            if next_city == destination_city and (trip_type == self.TripType.max_stops or num_stops == 1):\n",
        "                trip_number += 1\n",
        "\n",
        "            trip_number += self.get_number_of_possible_trips(next_city, destination_city, num_stops - 1, trip_type, 0)\n",
        "        \n",
        "        if (callback == 1):\n",
        "            if (trip_type == self.TripType.max_stops):\n",
        "                print(\"\\nNumber of possible trips from \" + departure_city + \" to \" + destination_city + \" with maximum of \" + str(num_stops) + \" stops are: \" + str(trip_number))\n",
        "            else:\n",
        "                print(\"\\nNumber of possible trips from \" + departure_city + \" to \" + destination_city + \" with exact \" + str(num_stops) + \" stops are: \" + str(trip_number))\n",
        "\n",
        "        return trip_number\n",
        "\n",
        "    def get_number_of_possible_trips_to_maximum_distance(self, departure_city, destination_city, max_distance, callback=1): #possible number of trips from departure to destination city less than maximum distance \n",
        "        trip_number = 0\n",
        "        # iterate through all connections from departure_city\n",
        "        for next_city, distance_to_next in self.graph[departure_city].items():\n",
        "            if next_city == destination_city and distance_to_next < max_distance:\n",
        "                trip_number += 1\n",
        "            if distance_to_next < max_distance:\n",
        "                trip_number += self.get_number_of_possible_trips_to_maximum_distance(next_city, destination_city, max_distance - distance_to_next, 0)\n",
        "\n",
        "        if (callback == 1):\n",
        "            print(\"\\nNumber of possible trips from \" + departure_city + \" to \" + destination_city + \" with maximum distance of \" + str(max_distance) + \" are: \" + str(trip_number))\n",
        "\n",
        "        return trip_number"
      ],
      "metadata": {
        "id": "YgcPd9c0Kz7c"
      },
      "execution_count": 3,
      "outputs": []
    },
    {
      "cell_type": "code",
      "source": [
        "Railnetwork = Railroad(\"AB5, BC4, CD8, DC8, DE6, AD5, CE2, EB3, AE7\")"
      ],
      "metadata": {
        "id": "w1UHWjUAN0DT"
      },
      "execution_count": 4,
      "outputs": []
    },
    {
      "cell_type": "code",
      "source": [
        "class DijkstrasModuleTest(unittest.TestCase):\n",
        "    def setUp(self):\n",
        "        self.railroad = Railnetwork\n",
        "\n",
        "    # Testing cases of railroad.get_shortest_distance\n",
        "    def test_route_to_self_should_not_automatically_return_zero_distance(self):\n",
        "        self.assertEqual(self.railroad.get_shortest_distance(\"D\", \"D\"), 16)\n",
        "\n",
        "    def test_shortest_dist_to_unreachable_destination_should_return_no_such_route(self):\n",
        "        self.assertEqual(self.railroad.get_shortest_distance(\"C\", \"A\"), \"NO SUCH ROUTE\")\n",
        "\n",
        "    def test_direct_connection_shortest_should_return_direct_distance(self):\n",
        "        self.assertEqual(self.railroad.get_shortest_distance(\"A\", \"B\"), 5)\n",
        "\n",
        "    def test_indirect_connection_shortest_should_return_indirect_distance(self):\n",
        "        self.assertEqual(self.railroad.get_shortest_distance(\"A\", \"E\"), 7)\n",
        "\n",
        "    def test_two_routes_tie_should_return_correct_distance(self):\n",
        "        self.assertEqual(self.railroad.get_shortest_distance(\"A\", \"C\"), 9)\n",
        "\n",
        "def suite(): #collecting all shortest path module tests from this module \n",
        "    test_suite = unittest.TestSuite()\n",
        "    test_suite.addTest(unittest.makeSuite(DijkstrasModuleTest))\n",
        "    return test_suite\n",
        "\n",
        "if __name__ == '__main__':\n",
        "    mySuit=suite()\n",
        "\n",
        "    runner=unittest.TextTestRunner()\n",
        "    runner.run(mySuit)"
      ],
      "metadata": {
        "colab": {
          "base_uri": "https://localhost:8080/"
        },
        "id": "wEJj6VaRN4VA",
        "outputId": "a449311d-5573-42b1-8542-e6aee8a88bf3"
      },
      "execution_count": 5,
      "outputs": [
        {
          "output_type": "stream",
          "name": "stderr",
          "text": [
            "....."
          ]
        },
        {
          "output_type": "stream",
          "name": "stdout",
          "text": [
            "\n",
            "Shortest route from A to B is: AB with distance 5.0\n",
            "\n",
            "Shortest route from A to E is: AE with distance 7.0\n",
            "\n",
            "Shortest route from D to D is: DCD with distance 16.0\n",
            "\n",
            "NO SUCH ROUTE from C to A\n",
            "\n",
            "Shortest route from A to C is: ABC with distance 9.0\n"
          ]
        },
        {
          "output_type": "stream",
          "name": "stderr",
          "text": [
            "\n",
            "----------------------------------------------------------------------\n",
            "Ran 5 tests in 0.015s\n",
            "\n",
            "OK\n"
          ]
        }
      ]
    },
    {
      "cell_type": "code",
      "source": [
        "class GetDistanceModuleTest(unittest.TestCase):\n",
        "    def setUp(self):\n",
        "        self.railroad = Railnetwork\n",
        "\n",
        "    # Testing cases of railroad.get_distance\n",
        "    def test_empty_route_should_return_no_such_route(self):\n",
        "        self.assertEqual(self.railroad.get_distance(\"\"), \"NO SUCH ROUTE\")\n",
        "\n",
        "    def test_nonexistant_single_step_route_should_return_no_such_route(self):\n",
        "        self.assertEqual(self.railroad.get_distance(\"A-C\"), \"NO SUCH ROUTE\")\n",
        "\n",
        "    def test_existing_single_step_route_should_return_distance(self):\n",
        "        self.assertAlmostEqual(self.railroad.get_distance(\"A-B\"), 5)\n",
        "\n",
        "    def test_nonexistant_multiple_step_route_should_return_no_such_route(self):\n",
        "        self.assertEqual(self.railroad.get_distance(\"A-B-D\"), \"NO SUCH ROUTE\")\n",
        "\n",
        "    def test_existing_multiple_step_route_should_return_distance(self):\n",
        "        self.assertAlmostEqual(self.railroad.get_distance(\"A-B-C\"), 9)\n",
        "\n",
        "def suite():\n",
        "    test_suite = unittest.TestSuite()\n",
        "    test_suite.addTest(unittest.makeSuite(GetDistanceModuleTest))\n",
        "    return test_suite\n",
        "\t\n",
        "if __name__ == '__main__':\n",
        "    mySuit=suite()\n",
        "\n",
        "    runner=unittest.TextTestRunner()\n",
        "    runner.run(mySuit)"
      ],
      "metadata": {
        "id": "NrGagQT0OHq2",
        "colab": {
          "base_uri": "https://localhost:8080/"
        },
        "outputId": "269ea7a4-de12-4089-89de-8c6053217e2c"
      },
      "execution_count": 6,
      "outputs": [
        {
          "output_type": "stream",
          "name": "stderr",
          "text": [
            "....."
          ]
        },
        {
          "output_type": "stream",
          "name": "stdout",
          "text": [
            "\n",
            ": NO SUCH ROUTE\n",
            "\n",
            "The route A-B-C has the distance of 9.0\n",
            "\n",
            "The route A-B has the distance of 5.0\n",
            "\n",
            "A-B-D: NO SUCH ROUTE\n",
            "\n",
            "A-C: NO SUCH ROUTE\n"
          ]
        },
        {
          "output_type": "stream",
          "name": "stderr",
          "text": [
            "\n",
            "----------------------------------------------------------------------\n",
            "Ran 5 tests in 0.009s\n",
            "\n",
            "OK\n"
          ]
        }
      ]
    },
    {
      "cell_type": "code",
      "source": [
        "class GetTripsNumberModuleTest(unittest.TestCase):\n",
        "    def setUp(self):\n",
        "        self.railroad = Railnetwork\n",
        "\n",
        "    # Testing cases of railroad.get_number_of_possible_trips\n",
        "    def test_number_trips_max_stops_with_missing_connection_should_return_zero(self):\n",
        "        self.assertEqual(self.railroad.get_number_of_possible_trips(\"A\", \"A\", 3, Railroad.TripType.max_stops), 0)\n",
        "\n",
        "    def test_number_trips_max_stops_with_valid_routes_should_return_number(self):\n",
        "        self.assertEqual(self.railroad.get_number_of_possible_trips(\"E\", \"D\", 5, Railroad.TripType.max_stops), 2)\n",
        "\n",
        "    def test_number_trips_max_stops_with_too_small_stops_should_return_zero(self):\n",
        "        self.assertEqual(self.railroad.get_number_of_possible_trips(\"E\", \"D\", 2, Railroad.TripType.max_stops), 0)\n",
        "\n",
        "    def test_number_trips_exact_stops_with_missing_connection_should_return_zero(self):\n",
        "        self.assertEqual(self.railroad.get_number_of_possible_trips(\"A\", \"A\", 3, Railroad.TripType.exact_stops), 0)\n",
        "\n",
        "    def test_number_trips_exact_stops_with_valid_routes_should_return_number(self):\n",
        "        self.assertEqual(self.railroad.get_number_of_possible_trips(\"A\", \"C\", 2, Railroad.TripType.exact_stops), 2)\n",
        "\n",
        "    def test_number_trips_exact_stops_with_no_matches_should_return_zero(self):\n",
        "        self.assertEqual(self.railroad.get_number_of_possible_trips(\"E\", \"D\", 4, Railroad.TripType.exact_stops), 0)\n",
        "\n",
        "    def test_num_routes_of_less_than_zero_distance_should_return_zero(self): #test cases of number of maxumum possible trips to maximum distance \n",
        "        self.assertEqual(self.railroad.get_number_of_possible_trips_to_maximum_distance(\"E\", \"B\", 0), 0)\n",
        "\n",
        "    def test_num_routes_to_unreachable_city_should_return_zero(self):\n",
        "        self.assertEqual(self.railroad.get_number_of_possible_trips_to_maximum_distance(\"E\", \"A\", 100), 0)\n",
        "\n",
        "    def test_num_routes_of_complex_path_should_return_five(self):\n",
        "        self.assertEqual(self.railroad.get_number_of_possible_trips_to_maximum_distance(\"A\", \"C\", 19), 5)\n",
        "\n",
        "def suite():\n",
        "    test_suite = unittest.TestSuite()\n",
        "    test_suite.addTest(unittest.makeSuite(GetTripsNumberModuleTest))\n",
        "    return test_suite\n",
        "\n",
        "if __name__ == '__main__':\n",
        "    mySuit=suite()\n",
        "\n",
        "    runner=unittest.TextTestRunner()\n",
        "    runner.run(mySuit)"
      ],
      "metadata": {
        "colab": {
          "base_uri": "https://localhost:8080/"
        },
        "id": "yWwRVU0WXVBZ",
        "outputId": "a6b58403-bea0-498d-da44-6f30a345c8d5"
      },
      "execution_count": 7,
      "outputs": [
        {
          "output_type": "stream",
          "name": "stderr",
          "text": [
            "........."
          ]
        },
        {
          "output_type": "stream",
          "name": "stdout",
          "text": [
            "\n",
            "Number of possible trips from A to C with maximum distance of 19 are: 5\n",
            "\n",
            "Number of possible trips from E to B with maximum distance of 0 are: 0\n",
            "\n",
            "Number of possible trips from E to A with maximum distance of 100 are: 0\n",
            "\n",
            "Number of possible trips from A to A with exact 3 stops are: 0\n",
            "\n",
            "Number of possible trips from E to D with exact 4 stops are: 0\n",
            "\n",
            "Number of possible trips from A to C with exact 2 stops are: 2\n",
            "\n",
            "Number of possible trips from A to A with maximum of 3 stops are: 0\n",
            "\n",
            "Number of possible trips from E to D with maximum of 2 stops are: 0\n",
            "\n",
            "Number of possible trips from E to D with maximum of 5 stops are: 2\n"
          ]
        },
        {
          "output_type": "stream",
          "name": "stderr",
          "text": [
            "\n",
            "----------------------------------------------------------------------\n",
            "Ran 9 tests in 0.022s\n",
            "\n",
            "OK\n"
          ]
        }
      ]
    },
    {
      "cell_type": "code",
      "source": [
        "class ReceptivitiTest(unittest.TestCase):\n",
        "    def setUp(self):\n",
        "        self.railroad = Railnetwork\n",
        "\n",
        "    def test_01(self):\n",
        "        self.assertAlmostEqual(self.railroad.get_distance(\"A-B-C\"), 9)\n",
        "\n",
        "    def test_02(self):\n",
        "        self.assertAlmostEqual(self.railroad.get_distance(\"A-D\"), 5)\n",
        "\n",
        "    def test_03(self):\n",
        "        self.assertAlmostEqual(self.railroad.get_distance(\"A-D-C\"), 13)\n",
        "\n",
        "    def test_04(self):\n",
        "        self.assertAlmostEqual(self.railroad.get_distance(\"A-E-B-C-D\"), 22)\n",
        "\n",
        "    def test_05(self):\n",
        "        self.assertEqual(self.railroad.get_distance(\"A-E-D\"), \"NO SUCH ROUTE\")\n",
        "\n",
        "    def test_06(self):\n",
        "        self.assertEqual(self.railroad.get_number_of_possible_trips(\"C\", \"C\", 3, Railroad.TripType.max_stops), 2)\n",
        "\n",
        "    def test_07(self):\n",
        "        self.assertEqual(self.railroad.get_number_of_possible_trips(\"A\", \"C\", 4, Railroad.TripType.exact_stops), 3)\n",
        "\n",
        "    def test_08(self):\n",
        "        self.assertEqual(self.railroad.get_shortest_distance(\"A\", \"C\"), 9)\n",
        "\n",
        "    def test_09(self):\n",
        "        self.assertEqual(self.railroad.get_shortest_distance(\"B\", \"B\"), 9)\n",
        "\n",
        "    def test_10(self):\n",
        "        self.assertEqual(self.railroad.get_number_of_possible_trips_to_maximum_distance(\"C\", \"C\", 30), 7)\n",
        "\n",
        "def suite():\n",
        "    test_suite = unittest.TestSuite()\n",
        "    test_suite.addTest(unittest.makeSuite(ReceptivitiTest))\n",
        "    return test_suite\n",
        "\n",
        "if __name__ == '__main__':\n",
        "    mySuit=suite()\n",
        "\n",
        "    runner=unittest.TextTestRunner()\n",
        "    runner.run(mySuit)"
      ],
      "metadata": {
        "colab": {
          "base_uri": "https://localhost:8080/"
        },
        "id": "D2sT_E3ZXpRA",
        "outputId": "34a1d736-7bd4-40a6-d3df-325f6142b988"
      },
      "execution_count": 8,
      "outputs": [
        {
          "output_type": "stream",
          "name": "stderr",
          "text": [
            ".........."
          ]
        },
        {
          "output_type": "stream",
          "name": "stdout",
          "text": [
            "\n",
            "The route A-B-C has the distance of 9.0\n",
            "\n",
            "The route A-D has the distance of 5.0\n",
            "\n",
            "The route A-D-C has the distance of 13.0\n",
            "\n",
            "The route A-E-B-C-D has the distance of 22.0\n",
            "\n",
            "A-E-D: NO SUCH ROUTE\n",
            "\n",
            "Number of possible trips from C to C with maximum of 3 stops are: 2\n",
            "\n",
            "Number of possible trips from A to C with exact 4 stops are: 3\n",
            "\n",
            "Shortest route from A to C is: ABC with distance 9.0\n",
            "\n",
            "Shortest route from B to B is: BCEB with distance 9.0\n",
            "\n",
            "Number of possible trips from C to C with maximum distance of 30 are: 7\n"
          ]
        },
        {
          "output_type": "stream",
          "name": "stderr",
          "text": [
            "\n",
            "----------------------------------------------------------------------\n",
            "Ran 10 tests in 0.058s\n",
            "\n",
            "OK\n"
          ]
        }
      ]
    },
    {
      "cell_type": "code",
      "source": [
        ""
      ],
      "metadata": {
        "id": "GZRM8YFLYNWj"
      },
      "execution_count": null,
      "outputs": []
    }
  ]
}
